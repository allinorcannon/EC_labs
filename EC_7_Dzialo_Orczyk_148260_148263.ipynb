{
 "cells": [
  {
   "cell_type": "code",
   "execution_count": 126,
   "metadata": {},
   "outputs": [],
   "source": [
    "from helpers import *"
   ]
  },
  {
   "cell_type": "code",
   "execution_count": 127,
   "metadata": {},
   "outputs": [],
   "source": [
    "nodes, costs, D = read_data(filename=\"TSPA.csv\")"
   ]
  },
  {
   "cell_type": "markdown",
   "metadata": {},
   "source": []
  },
  {
   "cell_type": "code",
   "execution_count": 128,
   "metadata": {},
   "outputs": [],
   "source": [
    "# Heuristic - randomized selection of nodes with probability guided by node cost + length of 2 neighbouring edges\n",
    "# returns array of costs - the higher the better\n",
    "def heuristic_value(path, D, costs):\n",
    "    scores = np.array(costs)\n",
    "    for idx, node in enumerate(path):\n",
    "        prev_node = path[(idx - 1) % len(path)]\n",
    "        next_node = path[(idx + 1) % len(path)]\n",
    "        scores[idx] += D[prev_node, node] + D[node, next_node]\n",
    "    return np.array(scores)\n",
    "\n",
    "\n",
    "# remove n separate subpaths of total length x% of full path, chosen points are middle of subpath\n",
    "def destroy(path, D, costs, size=0.25, num_subpaths=5):\n",
    "    path_len = len(path)\n",
    "    N = int(path_len*size)\n",
    "    subpath_len = N // num_subpaths\n",
    "    free_nodes = np.full(path_len, True, dtype=bool)\n",
    "    scores = heuristic_value(path, D, costs)\n",
    "    scores = scores[np.array(path)]\n",
    "    p = scores / scores.sum()\n",
    "    removed_nodes = []\n",
    "    for _ in range(num_subpaths):\n",
    "        choice = None\n",
    "        while choice is None:\n",
    "            idx = np.random.choice(path_len, p=p)\n",
    "            if free_nodes[idx]:\n",
    "                choice = idx\n",
    "        for i in range(0, subpath_len//2 + 1):\n",
    "            idx1, idx2 = (choice - i) % path_len, (choice + i) % path_len\n",
    "            removed_nodes.append(path[idx1])\n",
    "            removed_nodes.append(path[idx2])\n",
    "            free_nodes[idx1] = False\n",
    "            free_nodes[idx2] = False\n",
    "\n",
    "    destroyed_path = np.array(path)\n",
    "    destroyed_path = destroyed_path[free_nodes]\n",
    "    removed_nodes = list(np.unique(removed_nodes))\n",
    "\n",
    "    return destroyed_path, removed_nodes\n",
    "\n",
    "def greedy_regret_repair(path, nodes_available, D, costs, weights=0.5, closed_set=True):\n",
    "    if not closed_set:\n",
    "        not_in_path = [x for x in list(range(D.shape[0])) if x not in path]\n",
    "        for x in range(D.shape[0]):\n",
    "            if np.random.choice([0,1]):\n",
    "                nodes_available.append(not_in_path[x])\n",
    "    target_length = math.ceil(len(D) / 2)\n",
    "    path = list(path) + [path[0]]\n",
    "    edges = []\n",
    "    for idx, node in enumerate(path):\n",
    "        if idx == len(path)-1: break\n",
    "        edges.append([node, path[idx+1]])\n",
    "    while len(path) < target_length+1:\n",
    "        M = np.zeros((len(nodes_available), len(edges)))\n",
    "        indices = np.array(nodes_available)\n",
    "        for edge_ix in range(len(edges)):\n",
    "            a, b = edges[edge_ix]\n",
    "            var = D[a, :] + D[:, b] - D[a, b] + costs\n",
    "            M[:,edge_ix] = var[indices]\n",
    "        best_score = -MAX_DIST\n",
    "        replaced_edge = 0\n",
    "        best_node = 0\n",
    "        for node_idx in range(len(nodes_available)):\n",
    "            best, second_best = np.partition(M[node_idx], 1)[:2]\n",
    "            regret = second_best - best\n",
    "            score = weights * regret - (1 - weights) * np.min(M[node_idx])\n",
    "            if score > best_score:\n",
    "                best_score = score\n",
    "                replaced_edge = np.argmin(M[node_idx])\n",
    "                best_node = nodes_available[node_idx]\n",
    "        path.insert(replaced_edge+1, best_node)\n",
    "        nodes_available.remove(best_node)\n",
    "        a, b = edges[replaced_edge]\n",
    "        edges.pop(replaced_edge)\n",
    "        edges.insert(replaced_edge, [a, best_node])\n",
    "        edges.insert(replaced_edge + 1, [best_node, b])\n",
    "\n",
    "    return np.array(path[:-1])\n",
    "\n",
    "\n",
    "def LSNS(D, costs, random_start=True, LS_enable=False, time_limit=10, closed_set=True, num_subpaths=5):\n",
    "    time_start = time.time()\n",
    "    best_score = MAX_DIST\n",
    "\n",
    "    if random_start:\n",
    "        current_path = random_sequence(D)\n",
    "        current_path = local_search_deltas(current_path, costs, D)\n",
    "        score = evaluate(D, current_path, costs)\n",
    "    else:\n",
    "        current_path = greedy_regret(D, costs, start_node=random.randint(0, len(D)-1))\n",
    "\n",
    "    while True:\n",
    "        destroyed_path, removed_nodes = destroy(current_path, D, costs)\n",
    "        path = greedy_regret_repair(destroyed_path, removed_nodes, D, costs, closed_set)\n",
    "\n",
    "        if LS_enable:\n",
    "            path = local_search_deltas(path, costs, D)\n",
    "\n",
    "        score = evaluate(D, path, costs)\n",
    "        if score < best_score:\n",
    "            current_path = path\n",
    "            best_score = score\n",
    "\n",
    "        time_running = time.time() - time_start\n",
    "        if time_running > time_limit:\n",
    "            break\n",
    "\n",
    "    return current_path\n"
   ]
  },
  {
   "cell_type": "code",
   "execution_count": 130,
   "metadata": {},
   "outputs": [
    {
     "name": "stdout",
     "output_type": "stream",
     "text": [
      "Path: [178  19   0 149  50  43  77   4 114 121  91 161  76 145  40 128 132  36\n",
      "  55  22 117 171 194  79  21 170 186 127  88 153 175 192 150 199  41 177\n",
      "   1  75 189 109 119 130 152  11  48 106  26   8 169  95 124  80  14 111\n",
      "  31  73  89  94  72 190  98 156   6  66 112   5  51 135  99 101 167  45\n",
      "  24 141  87 144 102 154  81 108  62  53 195 113  74 163  61  71  20  64\n",
      " 185  70  96  27 116 147  59 143 159 164]\n",
      "Score: 75386\n"
     ]
    }
   ],
   "source": [
    "path = LSNS(D, costs, random_start=False, LS_enable=False, closed_set=True, time_limit=30, num_subpaths=5)\n",
    "score = evaluate(D, path, costs)\n",
    "print(f'Path: {path}\\nScore: {score}')"
   ]
  },
  {
   "cell_type": "code",
   "execution_count": null,
   "metadata": {},
   "outputs": [],
   "source": []
  }
 ],
 "metadata": {
  "kernelspec": {
   "display_name": "Python 3",
   "language": "python",
   "name": "python3"
  },
  "language_info": {
   "codemirror_mode": {
    "name": "ipython",
    "version": 3
   },
   "file_extension": ".py",
   "mimetype": "text/x-python",
   "name": "python",
   "nbconvert_exporter": "python",
   "pygments_lexer": "ipython3",
   "version": "3.10.0"
  }
 },
 "nbformat": 4,
 "nbformat_minor": 2
}
