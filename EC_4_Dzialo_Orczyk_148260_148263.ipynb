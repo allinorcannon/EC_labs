{
  "cells": [
    {
      "cell_type": "code",
      "execution_count": 259,
      "metadata": {
        "id": "J5MpfiJBKTui"
      },
      "outputs": [],
      "source": [
        "import pandas as pd\n",
        "import numpy as np\n",
        "import matplotlib.pyplot as plt\n",
        "import random\n",
        "from typing import List, Dict, Tuple\n",
        "import copy\n",
        "import time\n",
        "import numpy as np\n",
        "from joblib import Parallel, delayed"
      ]
    },
    {
      "cell_type": "code",
      "execution_count": 246,
      "metadata": {
        "id": "nb6ot8reSAuO"
      },
      "outputs": [],
      "source": [
        "MAX_DIST = 2147483647\n",
        "# random.seed(100)"
      ]
    },
    {
      "cell_type": "code",
      "execution_count": 189,
      "metadata": {
        "id": "kiHHmK9wNLB0"
      },
      "outputs": [],
      "source": [
        "def create_distance_matrix(df):\n",
        "    x = df['x'].values\n",
        "    y = df['y'].values\n",
        "    x1 = x.reshape((df.shape[0], 1))\n",
        "    x2 = x.reshape((1, df.shape[0]))\n",
        "    y1 = y.reshape((df.shape[0], 1))\n",
        "    y2 = y.reshape((1, df.shape[0]))\n",
        "    matrix = np.round(np.sqrt((x1 - x2) ** 2 + (y1 - y2) ** 2)).astype(int)\n",
        "    np.fill_diagonal(matrix, MAX_DIST)\n",
        "    return matrix\n",
        "\n",
        "def evaluate(distance_matrix: np.ndarray, path: np.array, costs: np.array) -> int:\n",
        "    copy_path = copy.deepcopy(path)\n",
        "    copy_path = np.append(copy_path, copy_path[0])\n",
        "    distances = distance_matrix[copy_path[:-1], copy_path[1:]]\n",
        "    path_costs = costs[copy_path[:-1]]\n",
        "    total_length = np.sum(distances + path_costs)\n",
        "    return total_length\n",
        "\n",
        "def random_sequence(distance_matrix: np.ndarray, start_node: int = 0) -> List[int]:\n",
        "    n = distance_matrix.shape[0]\n",
        "    num_selected = n // 2 if n % 2 == 0 else (n // 2) + 1\n",
        "    path = random.sample(list(range(distance_matrix.shape[0])), num_selected)\n",
        "    return np.array(path)\n",
        "\n",
        "def get_plot_values(nodes : Dict[int, Tuple[int, int, int]], solution: List[int], costs: List[int]) -> Tuple[List[int], List[int], List[int], List[int], List[int]]:\n",
        "    x_coords = [nodes[node][0] for node in list(nodes.keys())]\n",
        "    y_coords = [nodes[node][1] for node in list(nodes.keys())]\n",
        "    solution = solution + [solution[0]]\n",
        "    path_x_coords = [nodes[node][0] for node in solution]\n",
        "    path_y_coords = [nodes[node][1] for node in solution]\n",
        "    new_costs = [(cost/max(costs))*100 for cost in costs]\n",
        "    min_cost, max_cost = min(costs), max(costs)\n",
        "    power = 2\n",
        "    normalized_costs = [((cost - min_cost) / (max_cost - min_cost)) ** power for cost in costs]\n",
        "    colors = plt.cm.RdBu(normalized_costs)\n",
        "    return x_coords, y_coords, new_costs, path_x_coords, path_y_coords, colors\n",
        "\n",
        "def plot_path(path, nodes, costs):\n",
        "    x_coords, y_coords, new_costs, path_x_coords, path_y_coords, colors = get_plot_values(nodes, path, costs)\n",
        "    plt.scatter(x_coords, y_coords, color=colors, marker='o', s=new_costs, label='Cities')\n",
        "    plt.plot(path_x_coords, path_y_coords, linestyle='-', marker='o', markersize=0, color='blue', label='Path', alpha = 0.7)\n",
        "    plt.show()\n",
        "\n",
        "def read_data(filename='TSPA.csv', PATH='./'):\n",
        "    df = pd.read_csv(PATH + filename, names=[\"x\", \"y\", \"costs\"], sep=';', header=None)\n",
        "    nodes = {}\n",
        "    for idx, row in enumerate(df.values):\n",
        "        x, y, cost = map(int, row)\n",
        "        nodes[idx] = (x, y, cost)\n",
        "    D = create_distance_matrix(df)\n",
        "    return nodes, df['costs'].values, D"
      ]
    },
    {
      "cell_type": "code",
      "execution_count": 190,
      "metadata": {
        "id": "NtIVjLP9DGFM"
      },
      "outputs": [],
      "source": [
        "class Delta:\n",
        "  def __init__(self, delta_value: int, delta_type: str, values: tuple):\n",
        "      self.values = values\n",
        "      self.delta_type = delta_type\n",
        "      self.delta_value = delta_value\n",
        "\n",
        "  def create_path(self, path):\n",
        "      if self.delta_type == 'inter':\n",
        "          index_of_old_node, new_value = self.values\n",
        "          modified_path = copy.deepcopy(path)\n",
        "          modified_path[index_of_old_node] = new_value\n",
        "          return modified_path\n",
        "      elif self.delta_type == 'edges':\n",
        "          n1, n2 = self.values\n",
        "          if n1 < n2:\n",
        "              modified_path = np.concatenate((path[:n1], [path[n1]], [path[n2]], path[n1+1:n2][::-1],  path[n2+1:]))\n",
        "          else:\n",
        "              modified_path = np.concatenate((path[n2+1:n1], [path[n1]], [path[n2]], path[:n2][::-1], path[n1+1:][::-1]))\n",
        "          return modified_path\n",
        "      else:\n",
        "          raise ValueError(\"Invalid delta_type!\")"
      ]
    },
    {
      "cell_type": "code",
      "execution_count": 211,
      "metadata": {},
      "outputs": [],
      "source": [
        "def get_candidate_matrix(distance_matrix, n, costs):\n",
        "    distances = distance_matrix + costs\n",
        "    for idx in range(distances.shape[0]):\n",
        "        distances[idx] = np.argpartition(distances[idx], n)\n",
        "    return distances[:,:n]"
      ]
    },
    {
      "cell_type": "code",
      "execution_count": 212,
      "metadata": {
        "id": "f3PzNNRVGxs7"
      },
      "outputs": [],
      "source": [
        "def get_candidate_edges(pivot, neighbour, path, distance_matrix, intra_type = 'edges_regular'):\n",
        "    n1, n2 = pivot, neighbour\n",
        "    if intra_type == 'edges_regular':\n",
        "        edge1 = (n1, (n1 + 1) % len(path))\n",
        "        edge2 = (n2, (n2 + 1) % len(path))\n",
        "    else:\n",
        "        edge1 = ((n1 - 1) % len(path), n1)\n",
        "        edge2 = ((n2 - 1) % len(path), n2)\n",
        "\n",
        "    index1, index2 = edge1[0], edge2[0]\n",
        "\n",
        "    if edge1[1] == edge2[0] or edge1[0] == edge2[1]:\n",
        "        return None\n",
        "\n",
        "    delta_value = (\n",
        "        distance_matrix[path[edge1[0]], path[edge2[0]]]\n",
        "        + distance_matrix[path[edge1[1]], path[edge2[1]]]\n",
        "    ) - (\n",
        "        distance_matrix[path[edge1[0]], path[edge1[1]]]\n",
        "        + distance_matrix[path[edge2[0]], path[edge2[1]]]\n",
        "    )\n",
        "    delta = Delta(delta_value, 'edges', (index1, index2))\n",
        "    return delta"
      ]
    },
    {
      "cell_type": "code",
      "execution_count": 213,
      "metadata": {
        "id": "1P0mMIBaG2gI"
      },
      "outputs": [],
      "source": [
        "def get_candidate_nodes(pivot, neighbour, path, distance_matrix, costs):\n",
        "    index_of_old_node, new_node = pivot, neighbour\n",
        "    delta_value = 0\n",
        "\n",
        "    prev = int(path[(index_of_old_node - 1) % len(path)])\n",
        "    next = int(path[(index_of_old_node + 1) % len(path)])\n",
        "\n",
        "    old_dist = distance_matrix[prev, path[index_of_old_node]] \\\n",
        "              + distance_matrix[path[index_of_old_node], next]\n",
        "    new_dist = distance_matrix[prev, new_node] \\\n",
        "              + distance_matrix[new_node, next]\n",
        "    delta_value += new_dist - old_dist  # lower is better\n",
        "\n",
        "    delta_value += costs[new_node] - costs[path[index_of_old_node]]  # lower is better\n",
        "\n",
        "    delta = Delta(delta_value, 'inter', (index_of_old_node, new_node))\n",
        "\n",
        "    return delta"
      ]
    },
    {
      "cell_type": "code",
      "execution_count": 214,
      "metadata": {
        "id": "4VHGoD6MGYax"
      },
      "outputs": [],
      "source": [
        "def candidate_intra(pivot, neighbour, path, distance_matrix, costs):\n",
        "    return [\n",
        "        get_candidate_edges(pivot, neighbour, path, distance_matrix),\n",
        "        get_candidate_edges(pivot, neighbour, path, distance_matrix, intra_type='edges_succ')\n",
        "    ]\n",
        "\n",
        "\n",
        "def candidate_inter(pivot, neighbour, path, distance_matrix, costs):\n",
        "    return get_candidate_nodes(pivot, neighbour, path, distance_matrix, costs)"
      ]
    },
    {
      "cell_type": "code",
      "execution_count": 224,
      "metadata": {
        "id": "KAPCVRHNFrOh"
      },
      "outputs": [],
      "source": [
        "def get_candidate_neighbourhood(\n",
        "    path,\n",
        "    distance_matrix,\n",
        "    candidate_matrix,\n",
        "    costs\n",
        "):\n",
        "    neighbourhood = []\n",
        "    node_indices = {node: index for index, node in enumerate(path)}\n",
        "    for vertex_n1 in path:\n",
        "        candidates = candidate_matrix[vertex_n1]\n",
        "        for vertex_n2 in candidates:\n",
        "            # Evaluate all moves involving the addition of edge n1-n2 and the removal of one of the edges adjacent to vertex_n1\n",
        "            if vertex_n2 in path:\n",
        "                # Candidate Edges\n",
        "                # 0 1 2 3 4 5 6 7 8\n",
        "                # n1 = 1 n2 = 5\n",
        "                # Option #1 (same as before)\n",
        "                # 0 1 5 4 3 2 6 7 8\n",
        "                # Option #2\n",
        "                # 0 4 3 2 1 5 6 7 8\n",
        "                neighbourhood.extend(candidate_intra(node_indices[vertex_n1], node_indices[vertex_n2], path, distance_matrix, costs))\n",
        "            else:\n",
        "                # Candidate Nodes\n",
        "                # 0 1 2 3 4 5 6 7 8\n",
        "                # n1 = 1 n2 = 9\n",
        "                # 0 9 2 3 4 5 6 7 8\n",
        "                neighbourhood.append(candidate_inter(node_indices[vertex_n1], vertex_n2, path, distance_matrix, costs))\n",
        "    neighbourhood = [i for i in neighbourhood if i is not None]\n",
        "    return np.array(neighbourhood)"
      ]
    },
    {
      "cell_type": "code",
      "execution_count": 225,
      "metadata": {
        "id": "pQLCgyrfExF0"
      },
      "outputs": [],
      "source": [
        "def local_search_candidates(\n",
        "    current_path,\n",
        "    costs,\n",
        "    distance_matrix,\n",
        "    no_candidates\n",
        "):\n",
        "    candidate_matrix = get_candidate_matrix(distance_matrix, no_candidates, costs)\n",
        "    while True:\n",
        "        neighbourhood = get_candidate_neighbourhood(\n",
        "            current_path, distance_matrix, candidate_matrix, costs\n",
        "        )\n",
        "        min_index = np.argmin([delta.delta_value for delta in neighbourhood])\n",
        "        best_delta = neighbourhood[min_index]\n",
        "        if best_delta.delta_value < 0:\n",
        "            current_path = best_delta.create_path(current_path)\n",
        "        else:\n",
        "            break\n",
        "    return list(current_path)"
      ]
    },
    {
      "cell_type": "code",
      "execution_count": 226,
      "metadata": {},
      "outputs": [],
      "source": [
        "def evaluate_solution(filename, initial, costs, distance_matrix, no_candidates=10):\n",
        "    if initial is None:\n",
        "        initial = random_sequence(distance_matrix)\n",
        "    start = time.time()\n",
        "    initial_score = evaluate(distance_matrix, initial, costs)\n",
        "    path = local_search_candidates(initial, costs, distance_matrix, no_candidates)\n",
        "    score = evaluate(distance_matrix, path, costs)\n",
        "    end = time.time()\n",
        "    return {\n",
        "        'Filename': filename,\n",
        "        'Path': path,\n",
        "        'Initial_score': initial_score,\n",
        "        'Score': score,\n",
        "        'Time': (end - start)\n",
        "    }\n",
        "\n",
        "# if __name__ == \"__main__\":\n",
        "#     test_start = time.time()\n",
        "#     files = ['TSPA.csv', 'TSPB.csv', 'TSPC.csv', 'TSPD.csv']\n",
        "#     for filename in files:\n",
        "#         prefix = \"Candidates\"\n",
        "#         mapping_out_files= {\n",
        "#             'TSPA.csv' : f'{prefix}_TSPA_out.csv',\n",
        "#             'TSPB.csv' : f'{prefix}_TSPB_out.csv',\n",
        "#             'TSPC.csv' : f'{prefix}_TSPC_out.csv',\n",
        "#             'TSPD.csv' : f'{prefix}_TSPD_out.csv'\n",
        "#         }\n",
        "#         nodes, costs, distance_matrix = read_data(filename)\n",
        "        \n",
        "#         results = Parallel(n_jobs=-1)(delayed(evaluate_solution)(filename, None, costs, distance_matrix)\n",
        "#                                     for i in range(200)\n",
        "#                                     )\n",
        "#         results_df = pd.DataFrame(results)\n",
        "#         results_df.to_csv(mapping_out_files[filename])\n",
        "#         test_end = time.time()\n",
        "#         print(test_end - test_start)"
      ]
    },
    {
      "cell_type": "code",
      "execution_count": 260,
      "metadata": {},
      "outputs": [],
      "source": [
        "nodes, costs, distance_matrix = read_data(\"TSPA.csv\")"
      ]
    },
    {
      "cell_type": "code",
      "execution_count": 261,
      "metadata": {
        "colab": {
          "base_uri": "https://localhost:8080/"
        },
        "id": "B_y2UHFdoRyR",
        "outputId": "3eabd735-ac2d-4e3f-9781-dedd83a9f8ff"
      },
      "outputs": [
        {
          "name": "stdout",
          "output_type": "stream",
          "text": [
            "262090\n"
          ]
        }
      ],
      "source": [
        "random_init = random_sequence(distance_matrix)\n",
        "print(evaluate(distance_matrix, random_init, costs))"
      ]
    },
    {
      "cell_type": "code",
      "execution_count": 262,
      "metadata": {
        "id": "ucw-Gsy4ocaa"
      },
      "outputs": [],
      "source": [
        "ls_candidates = local_search_candidates(random_init, costs, distance_matrix, 10)"
      ]
    },
    {
      "cell_type": "code",
      "execution_count": 263,
      "metadata": {},
      "outputs": [
        {
          "name": "stdout",
          "output_type": "stream",
          "text": [
            "83975\n"
          ]
        }
      ],
      "source": [
        "print(evaluate(distance_matrix, ls_candidates, costs))"
      ]
    },
    {
      "cell_type": "code",
      "execution_count": 264,
      "metadata": {},
      "outputs": [
        {
          "data": {
            "image/png": "[encoded data removed]",
            "text/plain": [
              "<Figure size 432x288 with 1 Axes>"
            ]
          },
          "metadata": {
            "needs_background": "light"
          },
          "output_type": "display_data"
        }
      ],
      "source": [
        "plot_path(ls_candidates, nodes, costs)"
      ]
    },
    {
      "cell_type": "code",
      "execution_count": null,
      "metadata": {},
      "outputs": [],
      "source": []
    }
  ],
  "metadata": {
    "colab": {
      "provenance": []
    },
    "kernelspec": {
      "display_name": "Python 3",
      "name": "python3"
    },
    "language_info": {
      "codemirror_mode": {
        "name": "ipython",
        "version": 3
      },
      "file_extension": ".py",
      "mimetype": "text/x-python",
      "name": "python",
      "nbconvert_exporter": "python",
      "pygments_lexer": "ipython3",
      "version": "3.10.0"
    }
  },
  "nbformat": 4,
  "nbformat_minor": 0
}
