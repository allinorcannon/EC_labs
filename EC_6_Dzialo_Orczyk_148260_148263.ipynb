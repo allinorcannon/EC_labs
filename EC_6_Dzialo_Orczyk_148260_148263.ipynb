{
  "cells": [
    {
      "cell_type": "code",
      "execution_count": 18,
      "metadata": {
        "id": "J5MpfiJBKTui"
      },
      "outputs": [],
      "source": [
        "import pandas as pd\n",
        "import numpy as np\n",
        "import matplotlib.pyplot as plt\n",
        "import random\n",
        "from typing import List, Dict, Tuple\n",
        "import copy\n",
        "import time\n",
        "import numpy as np\n",
        "from joblib import Parallel, delayed\n",
        "from itertools import combinations, product\n",
        "from queue import PriorityQueue, Empty\n",
        "from helpers import *"
      ]
    },
    {
      "cell_type": "code",
      "execution_count": 19,
      "metadata": {},
      "outputs": [],
      "source": [
        "nodes, costs, D = read_data(filename=\"TSPA.csv\")"
      ]
    },
    {
      "cell_type": "code",
      "execution_count": 20,
      "metadata": {},
      "outputs": [],
      "source": [
        "class Delta:\n",
        "  def __init__(self, delta_value: int, delta_type: str, values: tuple):\n",
        "      self.delta_value = delta_value\n",
        "      self.delta_type = delta_type\n",
        "      self.values = values\n",
        "  def create_path(self, path):\n",
        "      if self.delta_type == 'inter':\n",
        "          index_of_old_node, new_value = self.values\n",
        "          modified_path = copy.deepcopy(path)\n",
        "          modified_path[index_of_old_node] = new_value\n",
        "          return modified_path\n",
        "      elif self.delta_type == 'edges_intra':\n",
        "          index1, index2 = self.values\n",
        "          if index2 == 0:\n",
        "              modified_path = np.array(list(path[:index1+1]) + list(path[index2-1:index1:-1]))\n",
        "          else:\n",
        "              modified_path = np.array(list(path[:index1+1]) + list(path[index2-1:index1:-1]) + list(path[index2:]))\n",
        "          return modified_path\n",
        "\n",
        "def inter(path, distance_matrix, costs):\n",
        "    og_nodes = set(path)\n",
        "    nodes = set(list(range(distance_matrix.shape[0])))\n",
        "    changes = product(og_nodes, nodes - og_nodes)\n",
        "    node_indices = {node: index for index, node in enumerate(path)}\n",
        "    neighbourhood_deltas = []\n",
        "    for change in changes:\n",
        "        old_node, new_node = change\n",
        "        delta_value = 0\n",
        "        index_of_old_node = node_indices[old_node]\n",
        "        prev = path[(index_of_old_node - 1) % len(path)]\n",
        "        next = path[(index_of_old_node + 1) % len(path)]\n",
        "        old_dist = distance_matrix[prev, old_node] \\\n",
        "                  + distance_matrix[old_node, next]\n",
        "        new_dist = distance_matrix[prev, new_node] \\\n",
        "                  + distance_matrix[new_node, next]\n",
        "        delta_value += new_dist - old_dist\n",
        "        delta_value += costs[new_node] - costs[old_node]\n",
        "        delta = Delta(delta_value, 'inter', (index_of_old_node, new_node))\n",
        "        neighbourhood_deltas.append(delta)\n",
        "    return neighbourhood_deltas\n",
        "\n",
        "def intra(path, distance_matrix):\n",
        "    pairs1 = np.column_stack((path[:-1], path[1:]))\n",
        "    cyclic_pair = np.array([path[-1], path[0]])\n",
        "    all_edges = np.vstack((pairs1, cyclic_pair))\n",
        "    edge_swaps = combinations(all_edges, 2)\n",
        "    neighbourhood_deltas = []\n",
        "    node_indices = {node: index for index, node in enumerate(path)}\n",
        "    for swap in edge_swaps:\n",
        "        edge1, edge2 = swap\n",
        "        if edge1[1] == edge2[0] or edge1[0] == edge2[1]:\n",
        "            continue\n",
        "        delta_value = (\n",
        "            distance_matrix[edge1[0], edge2[0]]\n",
        "            + distance_matrix[edge1[1], edge2[1]]\n",
        "        ) - (\n",
        "            distance_matrix[edge1[0], edge1[1]]\n",
        "            + distance_matrix[edge2[1], edge2[0]]\n",
        "        )\n",
        "        index1 = node_indices[edge1[0]]\n",
        "        index2 = node_indices[edge2[1]]\n",
        "        delta = Delta(delta_value, 'edges_intra', (index1, index2))\n",
        "        neighbourhood_deltas.append(delta)\n",
        "    return neighbourhood_deltas\n",
        "\n",
        "\n",
        "\n",
        "def local_search(current_path, D, costs):\n",
        "    while True:\n",
        "        neighbourhood_deltas = inter(current_path, D, costs) + intra(current_path, D)\n",
        "        min_index = np.argmin([delta.delta_value for delta in neighbourhood_deltas])\n",
        "        best_delta = neighbourhood_deltas[min_index]\n",
        "        if best_delta.delta_value < 0:\n",
        "            current_path = best_delta.create_path(current_path)\n",
        "        else:\n",
        "            break\n",
        "    return current_path\n",
        "\n",
        "\n",
        "def multiple_start_local_search(D, costs, ls_iter=10):\n",
        "    best_path = None\n",
        "    best_score = MAX_DIST\n",
        "    for i in range(ls_iter):\n",
        "        initial_path = random_sequence(D)\n",
        "        path = local_search(initial_path, D, costs)\n",
        "        score = evaluate(D, path, costs)\n",
        "        if score < best_score:\n",
        "            best_path = path\n",
        "            best_score = score\n",
        "    return best_path\n"
      ]
    },
    {
      "cell_type": "code",
      "execution_count": 21,
      "metadata": {},
      "outputs": [],
      "source": [
        "def evaluate_solution(filename, D, costs):\n",
        "    start = time.time()\n",
        "    path = multiple_start_local_search(D, costs)\n",
        "    end = time.time()\n",
        "    score = evaluate(D, path, costs)\n",
        "    return {\n",
        "        'Filename': filename,\n",
        "        'Path': path,\n",
        "        'Score': score,\n",
        "        'Time': (end - start)\n",
        "    }"
      ]
    },
    {
      "cell_type": "code",
      "execution_count": 22,
      "metadata": {},
      "outputs": [
        {
          "data": {
            "text/plain": [
              "{'Filename': 'TSPA.csv',\n",
              " 'Path': array([ 98, 190,  72,  94,  89, 111,  14,  31,  73,  95, 169,  80, 124,\n",
              "          8,  26, 119, 130,  48, 106,  11, 152, 189,  75,   1, 177,  41,\n",
              "        199, 192,   4,  77,  43,  35,  19,  69,   0, 149,  50, 121,  91,\n",
              "        114, 175, 153,  88, 127, 186,  79, 194,  21, 171, 117,  53,  22,\n",
              "        195,  55,  36, 132, 128,  40,  34, 164, 178, 159, 143,  59, 147,\n",
              "        116,  27,  96,  37, 185,  64, 181, 113,  61,  71,  20, 183, 103,\n",
              "        163,  74,  62,  32, 180, 108,  81, 154, 144,  87, 141,  24,  45,\n",
              "        167,  60, 101, 135,  51, 112,  66,   6, 156]),\n",
              " 'Score': 76772,\n",
              " 'Time': 59.6996169090271}"
            ]
          },
          "execution_count": 22,
          "metadata": {},
          "output_type": "execute_result"
        }
      ],
      "source": [
        "result = evaluate_solution('TSPA.csv', D, costs)\n",
        "result"
      ]
    },
    {
      "cell_type": "code",
      "execution_count": 770,
      "metadata": {},
      "outputs": [
        {
          "ename": "TypeError",
          "evalue": "'NoneType' object is not iterable",
          "output_type": "error",
          "traceback": [
            "\u001b[0;31m---------------------------------------------------------------------------\u001b[0m",
            "\u001b[0;31m_RemoteTraceback\u001b[0m                          Traceback (most recent call last)",
            "\u001b[0;31m_RemoteTraceback\u001b[0m: \n\"\"\"\nTraceback (most recent call last):\n  File \"/Library/Frameworks/Python.framework/Versions/3.10/lib/python3.10/site-packages/joblib/externals/loky/process_executor.py\", line 428, in _process_worker\n    r = call_item()\n  File \"/Library/Frameworks/Python.framework/Versions/3.10/lib/python3.10/site-packages/joblib/externals/loky/process_executor.py\", line 275, in __call__\n    return self.fn(*self.args, **self.kwargs)\n  File \"/Library/Frameworks/Python.framework/Versions/3.10/lib/python3.10/site-packages/joblib/_parallel_backends.py\", line 620, in __call__\n    return self.func(*args, **kwargs)\n  File \"/Library/Frameworks/Python.framework/Versions/3.10/lib/python3.10/site-packages/joblib/parallel.py\", line 288, in __call__\n    return [func(*args, **kwargs)\n  File \"/Library/Frameworks/Python.framework/Versions/3.10/lib/python3.10/site-packages/joblib/parallel.py\", line 288, in <listcomp>\n    return [func(*args, **kwargs)\n  File \"/var/folders/q7/rl6smtp16655qm4b40vyfj4m0000gn/T/ipykernel_6888/1615309195.py\", line 3, in evaluate_solution\n  File \"/var/folders/q7/rl6smtp16655qm4b40vyfj4m0000gn/T/ipykernel_6888/1047833374.py\", line 3, in local_search_deltas\n  File \"/var/folders/q7/rl6smtp16655qm4b40vyfj4m0000gn/T/ipykernel_6888/3802655920.py\", line 3, in update_moves\n  File \"/var/folders/q7/rl6smtp16655qm4b40vyfj4m0000gn/T/ipykernel_6888/2815884294.py\", line 47, in get_initial_moves\n  File \"/var/folders/q7/rl6smtp16655qm4b40vyfj4m0000gn/T/ipykernel_6888/2815884294.py\", line 15, in nodes_inter\nTypeError: 'NoneType' object is not iterable\n\"\"\"",
            "\nThe above exception was the direct cause of the following exception:\n",
            "\u001b[0;31mTypeError\u001b[0m                                 Traceback (most recent call last)",
            "\u001b[0;32m/var/folders/q7/rl6smtp16655qm4b40vyfj4m0000gn/T/ipykernel_6888/2860965567.py\u001b[0m in \u001b[0;36m<module>\u001b[0;34m\u001b[0m\n\u001b[1;32m     12\u001b[0m         }\n\u001b[1;32m     13\u001b[0m         \u001b[0mnodes\u001b[0m\u001b[0;34m,\u001b[0m \u001b[0mcosts\u001b[0m\u001b[0;34m,\u001b[0m \u001b[0mdistance_matrix\u001b[0m \u001b[0;34m=\u001b[0m \u001b[0mread_data\u001b[0m\u001b[0;34m(\u001b[0m\u001b[0mfilename\u001b[0m\u001b[0;34m)\u001b[0m\u001b[0;34m\u001b[0m\u001b[0;34m\u001b[0m\u001b[0m\n\u001b[0;32m---> 14\u001b[0;31m         results = Parallel(n_jobs=-1)(delayed(evaluate_solution)(filename, None, costs, distance_matrix)\n\u001b[0m\u001b[1;32m     15\u001b[0m                                     \u001b[0;32mfor\u001b[0m \u001b[0mi\u001b[0m \u001b[0;32min\u001b[0m \u001b[0mrange\u001b[0m\u001b[0;34m(\u001b[0m\u001b[0;36m1\u001b[0m\u001b[0;34m)\u001b[0m\u001b[0;34m\u001b[0m\u001b[0;34m\u001b[0m\u001b[0m\n\u001b[1;32m     16\u001b[0m                                     )\n",
            "\u001b[0;32m/Library/Frameworks/Python.framework/Versions/3.10/lib/python3.10/site-packages/joblib/parallel.py\u001b[0m in \u001b[0;36m__call__\u001b[0;34m(self, iterable)\u001b[0m\n\u001b[1;32m   1096\u001b[0m \u001b[0;34m\u001b[0m\u001b[0m\n\u001b[1;32m   1097\u001b[0m             \u001b[0;32mwith\u001b[0m \u001b[0mself\u001b[0m\u001b[0;34m.\u001b[0m\u001b[0m_backend\u001b[0m\u001b[0;34m.\u001b[0m\u001b[0mretrieval_context\u001b[0m\u001b[0;34m(\u001b[0m\u001b[0;34m)\u001b[0m\u001b[0;34m:\u001b[0m\u001b[0;34m\u001b[0m\u001b[0;34m\u001b[0m\u001b[0m\n\u001b[0;32m-> 1098\u001b[0;31m                 \u001b[0mself\u001b[0m\u001b[0;34m.\u001b[0m\u001b[0mretrieve\u001b[0m\u001b[0;34m(\u001b[0m\u001b[0;34m)\u001b[0m\u001b[0;34m\u001b[0m\u001b[0;34m\u001b[0m\u001b[0m\n\u001b[0m\u001b[1;32m   1099\u001b[0m             \u001b[0;31m# Make sure that we get a last message telling us we are done\u001b[0m\u001b[0;34m\u001b[0m\u001b[0;34m\u001b[0m\u001b[0m\n\u001b[1;32m   1100\u001b[0m             \u001b[0melapsed_time\u001b[0m \u001b[0;34m=\u001b[0m \u001b[0mtime\u001b[0m\u001b[0;34m.\u001b[0m\u001b[0mtime\u001b[0m\u001b[0;34m(\u001b[0m\u001b[0;34m)\u001b[0m \u001b[0;34m-\u001b[0m \u001b[0mself\u001b[0m\u001b[0;34m.\u001b[0m\u001b[0m_start_time\u001b[0m\u001b[0;34m\u001b[0m\u001b[0;34m\u001b[0m\u001b[0m\n",
            "\u001b[0;32m/Library/Frameworks/Python.framework/Versions/3.10/lib/python3.10/site-packages/joblib/parallel.py\u001b[0m in \u001b[0;36mretrieve\u001b[0;34m(self)\u001b[0m\n\u001b[1;32m    973\u001b[0m             \u001b[0;32mtry\u001b[0m\u001b[0;34m:\u001b[0m\u001b[0;34m\u001b[0m\u001b[0;34m\u001b[0m\u001b[0m\n\u001b[1;32m    974\u001b[0m                 \u001b[0;32mif\u001b[0m \u001b[0mgetattr\u001b[0m\u001b[0;34m(\u001b[0m\u001b[0mself\u001b[0m\u001b[0;34m.\u001b[0m\u001b[0m_backend\u001b[0m\u001b[0;34m,\u001b[0m \u001b[0;34m'supports_timeout'\u001b[0m\u001b[0;34m,\u001b[0m \u001b[0;32mFalse\u001b[0m\u001b[0;34m)\u001b[0m\u001b[0;34m:\u001b[0m\u001b[0;34m\u001b[0m\u001b[0;34m\u001b[0m\u001b[0m\n\u001b[0;32m--> 975\u001b[0;31m                     \u001b[0mself\u001b[0m\u001b[0;34m.\u001b[0m\u001b[0m_output\u001b[0m\u001b[0;34m.\u001b[0m\u001b[0mextend\u001b[0m\u001b[0;34m(\u001b[0m\u001b[0mjob\u001b[0m\u001b[0;34m.\u001b[0m\u001b[0mget\u001b[0m\u001b[0;34m(\u001b[0m\u001b[0mtimeout\u001b[0m\u001b[0;34m=\u001b[0m\u001b[0mself\u001b[0m\u001b[0;34m.\u001b[0m\u001b[0mtimeout\u001b[0m\u001b[0;34m)\u001b[0m\u001b[0;34m)\u001b[0m\u001b[0;34m\u001b[0m\u001b[0;34m\u001b[0m\u001b[0m\n\u001b[0m\u001b[1;32m    976\u001b[0m                 \u001b[0;32melse\u001b[0m\u001b[0;34m:\u001b[0m\u001b[0;34m\u001b[0m\u001b[0;34m\u001b[0m\u001b[0m\n\u001b[1;32m    977\u001b[0m                     \u001b[0mself\u001b[0m\u001b[0;34m.\u001b[0m\u001b[0m_output\u001b[0m\u001b[0;34m.\u001b[0m\u001b[0mextend\u001b[0m\u001b[0;34m(\u001b[0m\u001b[0mjob\u001b[0m\u001b[0;34m.\u001b[0m\u001b[0mget\u001b[0m\u001b[0;34m(\u001b[0m\u001b[0;34m)\u001b[0m\u001b[0;34m)\u001b[0m\u001b[0;34m\u001b[0m\u001b[0;34m\u001b[0m\u001b[0m\n",
            "\u001b[0;32m/Library/Frameworks/Python.framework/Versions/3.10/lib/python3.10/site-packages/joblib/_parallel_backends.py\u001b[0m in \u001b[0;36mwrap_future_result\u001b[0;34m(future, timeout)\u001b[0m\n\u001b[1;32m    565\u001b[0m         AsyncResults.get from multiprocessing.\"\"\"\n\u001b[1;32m    566\u001b[0m         \u001b[0;32mtry\u001b[0m\u001b[0;34m:\u001b[0m\u001b[0;34m\u001b[0m\u001b[0;34m\u001b[0m\u001b[0m\n\u001b[0;32m--> 567\u001b[0;31m             \u001b[0;32mreturn\u001b[0m \u001b[0mfuture\u001b[0m\u001b[0;34m.\u001b[0m\u001b[0mresult\u001b[0m\u001b[0;34m(\u001b[0m\u001b[0mtimeout\u001b[0m\u001b[0;34m=\u001b[0m\u001b[0mtimeout\u001b[0m\u001b[0;34m)\u001b[0m\u001b[0;34m\u001b[0m\u001b[0;34m\u001b[0m\u001b[0m\n\u001b[0m\u001b[1;32m    568\u001b[0m         \u001b[0;32mexcept\u001b[0m \u001b[0mCfTimeoutError\u001b[0m \u001b[0;32mas\u001b[0m \u001b[0me\u001b[0m\u001b[0;34m:\u001b[0m\u001b[0;34m\u001b[0m\u001b[0;34m\u001b[0m\u001b[0m\n\u001b[1;32m    569\u001b[0m             \u001b[0;32mraise\u001b[0m \u001b[0mTimeoutError\u001b[0m \u001b[0;32mfrom\u001b[0m \u001b[0me\u001b[0m\u001b[0;34m\u001b[0m\u001b[0;34m\u001b[0m\u001b[0m\n",
            "\u001b[0;32m/Library/Frameworks/Python.framework/Versions/3.10/lib/python3.10/concurrent/futures/_base.py\u001b[0m in \u001b[0;36mresult\u001b[0;34m(self, timeout)\u001b[0m\n\u001b[1;32m    443\u001b[0m                     \u001b[0;32mraise\u001b[0m \u001b[0mCancelledError\u001b[0m\u001b[0;34m(\u001b[0m\u001b[0;34m)\u001b[0m\u001b[0;34m\u001b[0m\u001b[0;34m\u001b[0m\u001b[0m\n\u001b[1;32m    444\u001b[0m                 \u001b[0;32melif\u001b[0m \u001b[0mself\u001b[0m\u001b[0;34m.\u001b[0m\u001b[0m_state\u001b[0m \u001b[0;34m==\u001b[0m \u001b[0mFINISHED\u001b[0m\u001b[0;34m:\u001b[0m\u001b[0;34m\u001b[0m\u001b[0;34m\u001b[0m\u001b[0m\n\u001b[0;32m--> 445\u001b[0;31m                     \u001b[0;32mreturn\u001b[0m \u001b[0mself\u001b[0m\u001b[0;34m.\u001b[0m\u001b[0m__get_result\u001b[0m\u001b[0;34m(\u001b[0m\u001b[0;34m)\u001b[0m\u001b[0;34m\u001b[0m\u001b[0;34m\u001b[0m\u001b[0m\n\u001b[0m\u001b[1;32m    446\u001b[0m                 \u001b[0;32melse\u001b[0m\u001b[0;34m:\u001b[0m\u001b[0;34m\u001b[0m\u001b[0;34m\u001b[0m\u001b[0m\n\u001b[1;32m    447\u001b[0m                     \u001b[0;32mraise\u001b[0m \u001b[0mTimeoutError\u001b[0m\u001b[0;34m(\u001b[0m\u001b[0;34m)\u001b[0m\u001b[0;34m\u001b[0m\u001b[0;34m\u001b[0m\u001b[0m\n",
            "\u001b[0;32m/Library/Frameworks/Python.framework/Versions/3.10/lib/python3.10/concurrent/futures/_base.py\u001b[0m in \u001b[0;36m__get_result\u001b[0;34m(self)\u001b[0m\n\u001b[1;32m    388\u001b[0m         \u001b[0;32mif\u001b[0m \u001b[0mself\u001b[0m\u001b[0;34m.\u001b[0m\u001b[0m_exception\u001b[0m\u001b[0;34m:\u001b[0m\u001b[0;34m\u001b[0m\u001b[0;34m\u001b[0m\u001b[0m\n\u001b[1;32m    389\u001b[0m             \u001b[0;32mtry\u001b[0m\u001b[0;34m:\u001b[0m\u001b[0;34m\u001b[0m\u001b[0;34m\u001b[0m\u001b[0m\n\u001b[0;32m--> 390\u001b[0;31m                 \u001b[0;32mraise\u001b[0m \u001b[0mself\u001b[0m\u001b[0;34m.\u001b[0m\u001b[0m_exception\u001b[0m\u001b[0;34m\u001b[0m\u001b[0;34m\u001b[0m\u001b[0m\n\u001b[0m\u001b[1;32m    391\u001b[0m             \u001b[0;32mfinally\u001b[0m\u001b[0;34m:\u001b[0m\u001b[0;34m\u001b[0m\u001b[0;34m\u001b[0m\u001b[0m\n\u001b[1;32m    392\u001b[0m                 \u001b[0;31m# Break a reference cycle with the exception in self._exception\u001b[0m\u001b[0;34m\u001b[0m\u001b[0;34m\u001b[0m\u001b[0m\n",
            "\u001b[0;31mTypeError\u001b[0m: 'NoneType' object is not iterable"
          ]
        }
      ],
      "source": [
        "if __name__ == \"__main__\":\n",
        "    test_start = time.time()\n",
        "    files = ['TSPA.csv', 'TSPB.csv', 'TSPC.csv', 'TSPD.csv']\n",
        "    for filename in files:\n",
        "        prefix = \"MSLS\"\n",
        "        mapping_out_files= {\n",
        "            'TSPA.csv' : f'{prefix}_TSPA_out.csv',\n",
        "            'TSPB.csv' : f'{prefix}_TSPB_out.csv',\n",
        "            'TSPC.csv' : f'{prefix}_TSPC_out.csv',\n",
        "            'TSPD.csv' : f'{prefix}_TSPD_out.csv'\n",
        "        }\n",
        "        nodes, costs, D = read_data(filename)\n",
        "        results = Parallel(n_jobs=-1)(delayed(evaluate_solution)(filename, D, costs)\n",
        "                                    for i in range(20)\n",
        "                                    )\n",
        "\n",
        "        results_df = pd.DataFrame(results)\n",
        "        results_df.to_csv(mapping_out_files[filename])\n",
        "        test_end = time.time()\n",
        "        print(test_end - test_start)"
      ]
    }
  ],
  "metadata": {
    "colab": {
      "provenance": []
    },
    "kernelspec": {
      "display_name": "Python 3",
      "name": "python3"
    },
    "language_info": {
      "codemirror_mode": {
        "name": "ipython",
        "version": 3
      },
      "file_extension": ".py",
      "mimetype": "text/x-python",
      "name": "python",
      "nbconvert_exporter": "python",
      "pygments_lexer": "ipython3",
      "version": "3.10.0"
    }
  },
  "nbformat": 4,
  "nbformat_minor": 0
}
